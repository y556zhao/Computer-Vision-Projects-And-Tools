{
 "cells": [
  {
   "cell_type": "code",
   "execution_count": 61,
   "metadata": {},
   "outputs": [
    {
     "ename": "NameError",
     "evalue": "name 'y' is not defined",
     "output_type": "error",
     "traceback": [
      "\u001b[1;31m---------------------------------------------------------------------------\u001b[0m",
      "\u001b[1;31mNameError\u001b[0m                                 Traceback (most recent call last)",
      "\u001b[1;32m<ipython-input-61-b836df00dafc>\u001b[0m in \u001b[0;36m<module>\u001b[1;34m\u001b[0m\n\u001b[0;32m     33\u001b[0m     \u001b[0mdetector\u001b[0m \u001b[1;33m=\u001b[0m \u001b[0mcv2\u001b[0m\u001b[1;33m.\u001b[0m\u001b[0mSimpleBlobDetector_create\u001b[0m\u001b[1;33m(\u001b[0m\u001b[0mparams\u001b[0m\u001b[1;33m)\u001b[0m\u001b[1;33m\u001b[0m\u001b[1;33m\u001b[0m\u001b[0m\n\u001b[0;32m     34\u001b[0m \u001b[1;33m\u001b[0m\u001b[0m\n\u001b[1;32m---> 35\u001b[1;33m \u001b[0mcrop_img\u001b[0m \u001b[1;33m=\u001b[0m \u001b[0mimage2\u001b[0m\u001b[1;33m[\u001b[0m\u001b[0my\u001b[0m\u001b[1;33m:\u001b[0m\u001b[0my\u001b[0m\u001b[1;33m+\u001b[0m\u001b[0mh\u001b[0m\u001b[1;33m,\u001b[0m \u001b[0mx\u001b[0m\u001b[1;33m:\u001b[0m\u001b[0mx\u001b[0m\u001b[1;33m+\u001b[0m\u001b[0mw\u001b[0m\u001b[1;33m]\u001b[0m\u001b[1;33m\u001b[0m\u001b[1;33m\u001b[0m\u001b[0m\n\u001b[0m\u001b[0;32m     36\u001b[0m \u001b[0moutput\u001b[0m \u001b[1;33m=\u001b[0m \u001b[0mcv2\u001b[0m\u001b[1;33m.\u001b[0m\u001b[0mcvtColor\u001b[0m\u001b[1;33m(\u001b[0m\u001b[0mcrop_img\u001b[0m\u001b[1;33m,\u001b[0m \u001b[0mcv2\u001b[0m\u001b[1;33m.\u001b[0m\u001b[0mCOLOR_BGR2GRAY\u001b[0m\u001b[1;33m)\u001b[0m\u001b[1;33m\u001b[0m\u001b[1;33m\u001b[0m\u001b[0m\n\u001b[0;32m     37\u001b[0m \u001b[0mprint\u001b[0m\u001b[1;33m(\u001b[0m\u001b[0moutput\u001b[0m\u001b[1;33m)\u001b[0m\u001b[1;33m\u001b[0m\u001b[1;33m\u001b[0m\u001b[0m\n",
      "\u001b[1;31mNameError\u001b[0m: name 'y' is not defined"
     ]
    }
   ],
   "source": [
    "crop_img = image2[y:y+h, x:x+w]\n",
    "output = cv2.cvtColor(crop_img, cv2.COLOR_BGR2GRAY)\n",
    "print(output)\n",
    "cv2.imshow('Rect', crop_img)\n",
    "print ('Number of pixel in image: ',output.size)\n",
    "\n",
    "pixel=cv2.countNonZero(output)\n",
    "print('countNonZero:',pixel)\n",
    "print('Ratio: ', (pixel/output.size))\n",
    "cv2.waitKey()\n",
    "cv2.destroyAllWindows()"
   ]
  },
  {
   "cell_type": "code",
   "execution_count": null,
   "metadata": {},
   "outputs": [
    {
     "name": "stdout",
     "output_type": "stream",
     "text": [
      "number of blobs:  1\n",
      "keypoints:  [<KeyPoint 000001F332B83ED0>]\n",
      "x:  338.0599060058594\n",
      "y:  107.578125\n",
      "size:  9.33032512664795\n",
      "radius:  4\n"
     ]
    }
   ],
   "source": [
    "import cv2\n",
    "import numpy as np \n",
    "# Read image\n",
    "im = cv2.imread('4.png', cv2.IMREAD_GRAYSCALE)\n",
    " \n",
    "# Setup SimpleBlobDetector parameters.\n",
    "params = cv2.SimpleBlobDetector_Params()\n",
    "\n",
    "#params.minThreshold = 70;\n",
    "#params.maxThreshold = 255;\n",
    "\n",
    "# Filter by Area.\n",
    "params.filterByArea = True\n",
    "params.minArea =50\n",
    "\n",
    "params.filterByCircularity = True\n",
    "params.minCircularity = 0.3\n",
    "\n",
    "params.filterByInertia = False\n",
    "\n",
    "params.filterByConvexity = True\n",
    "params.minConvexity = 0.4\n",
    "\n",
    "params.blobColor = 255\n",
    "    \n",
    "# Set up the detector with default parameters.\n",
    "ver = (cv2.__version__).split('.')\n",
    "if int(ver[0]) < 3 :\n",
    "    detector = cv2.SimpleBlobDetector(params)\n",
    "else : \n",
    "    detector = cv2.SimpleBlobDetector_create(params)\n",
    " \n",
    "# Detect blobs.\n",
    "keypoints = detector.detect(im)\n",
    "print('number of blobs: ',len(keypoints))\n",
    "print ('keypoints: ', keypoints)\n",
    "x = keypoints[0].pt[0]\n",
    "y = keypoints[0].pt[1]\n",
    "# s is the diameter\n",
    "s = keypoints[0].size\n",
    "r=int(s/2)\n",
    "\n",
    "print('x: ', x)\n",
    "print('y: ', y)\n",
    "print('size: ', s)\n",
    "print('radius: ', r)\n",
    "# Draw detected blobs as red circles.\n",
    "#cv2.DRAW_MATCHES_FLAGS_DRAW_RICH_KEYPOINTS ensures the size of the circle corresponds to the size of blob\n",
    "im_with_keypoints = cv2.drawKeypoints(im, keypoints, np.array([]), (0,0,255), cv2.DRAW_MATCHES_FLAGS_DRAW_RICH_KEYPOINTS)\n",
    "\n",
    "#cv2.circle(im_with_keypoints, (int(x),int(y)), (int(s/2)), (255,0,0), 1) \n",
    "\n",
    "#x,y,w,h = cv2.boundingRect(cnt)\n",
    "rect=cv2.rectangle(im_with_keypoints,(int(x-r),int(y-r)),(int(x+r),int(y+r)),(0,255,0),1)\n",
    "#crop_img = image2[y:y+h, x:x+w]\n",
    "#output = cv2.cvtColor(crop_img, cv2.COLOR_BGR2GRAY)\n",
    "#print(output)\n",
    "cv2.imshow('Rect', im_with_keypoints) \n",
    "\n",
    "#cv2.imshow('Blobs', im_with_keypoints)\n",
    "\n",
    "cv2.waitKey()\n",
    "cv2.destroyAllWindows()"
   ]
  },
  {
   "cell_type": "code",
   "execution_count": null,
   "metadata": {},
   "outputs": [],
   "source": []
  }
 ],
 "metadata": {
  "kernelspec": {
   "display_name": "Python 3",
   "language": "python",
   "name": "python3"
  },
  "language_info": {
   "codemirror_mode": {
    "name": "ipython",
    "version": 3
   },
   "file_extension": ".py",
   "mimetype": "text/x-python",
   "name": "python",
   "nbconvert_exporter": "python",
   "pygments_lexer": "ipython3",
   "version": "3.7.3"
  }
 },
 "nbformat": 4,
 "nbformat_minor": 2
}
