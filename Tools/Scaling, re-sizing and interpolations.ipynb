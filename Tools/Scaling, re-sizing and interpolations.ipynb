{
 "cells": [
  {
   "cell_type": "markdown",
   "metadata": {},
   "source": [
    "## Scaling, re-sizing and interpolations\n",
    "cv2.resize(image, dsize(output image size), x scale, y scale, interpolation)\n"
   ]
  },
  {
   "cell_type": "code",
   "execution_count": null,
   "metadata": {},
   "outputs": [],
   "source": [
    "import cv2\n",
    "import numpy as np\n",
    "\n",
    "# load input image\n",
    "image = cv2.imread('images/image1.jpg')\n",
    "\n",
    "# 1/4 of it's original size\n",
    "image_scaled = cv2.resize(image, None, fx=0.25, fy=0.25)    # default interpolation: cv2.INTER_LINEAR\n",
    "cv2.imshow('Shrink ', image_scaled) \n",
    "cv2.waitKey()\n",
    "\n",
    "# Double the size of our image\n",
    "img_scaled = cv2.resize(image, None, fx=2, fy=2, interpolation = cv2.INTER_CUBIC)\n",
    "cv2.imshow('Double Size', img_scaled)\n",
    "cv2.waitKey()\n",
    "\n",
    "# Skew the re-sizing by setting exact dimensions\n",
    "img_scaled = cv2.resize(image, (200, 400), interpolation = cv2.INTER_AREA)\n",
    "cv2.imshow('Skewed Size', img_scaled) \n",
    "cv2.waitKey()\n",
    "\n",
    "cv2.destroyAllWindows()"
   ]
  }
 ],
 "metadata": {
  "kernelspec": {
   "display_name": "Python 3",
   "language": "python",
   "name": "python3"
  },
  "language_info": {
   "codemirror_mode": {
    "name": "ipython",
    "version": 3
   },
   "file_extension": ".py",
   "mimetype": "text/x-python",
   "name": "python",
   "nbconvert_exporter": "python",
   "pygments_lexer": "ipython3",
   "version": "3.7.3"
  }
 },
 "nbformat": 4,
 "nbformat_minor": 1
}
